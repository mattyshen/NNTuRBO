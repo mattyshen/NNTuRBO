{
 "cells": [
  {
   "cell_type": "markdown",
   "metadata": {},
   "source": [
    "## Simple example of TuRBO-1"
   ]
  },
  {
   "cell_type": "code",
   "execution_count": 1,
   "metadata": {},
   "outputs": [
    {
     "name": "stdout",
     "output_type": "stream",
     "text": [
      "/home/mattyshen/NNTuRBO\n"
     ]
    }
   ],
   "source": [
    "cd .."
   ]
  },
  {
   "cell_type": "code",
   "execution_count": 2,
   "metadata": {},
   "outputs": [],
   "source": [
    "from nnturbo import NNTurbo1\n",
    "import numpy as np\n",
    "import torch\n",
    "import math\n",
    "import matplotlib\n",
    "import matplotlib.pyplot as plt"
   ]
  },
  {
   "cell_type": "markdown",
   "metadata": {},
   "source": [
    "## Set up an optimization problem class"
   ]
  },
  {
   "cell_type": "code",
   "execution_count": 3,
   "metadata": {},
   "outputs": [],
   "source": [
    "class Levy:\n",
    "    def __init__(self, dim=10):\n",
    "        self.dim = dim\n",
    "        self.lb = -5 * np.ones(dim)\n",
    "        self.ub = 10 * np.ones(dim)\n",
    "        \n",
    "    def __call__(self, x):\n",
    "        assert len(x) == self.dim\n",
    "        assert x.ndim == 1\n",
    "        assert np.all(x <= self.ub) and np.all(x >= self.lb)\n",
    "        w = 1 + (x - 1.0) / 4.0\n",
    "        val = np.sin(np.pi * w[0]) ** 2 + \\\n",
    "            np.sum((w[1:self.dim - 1] - 1) ** 2 * (1 + 10 * np.sin(np.pi * w[1:self.dim - 1] + 1) ** 2)) + \\\n",
    "            (w[self.dim - 1] - 1) ** 2 * (1 + np.sin(2 * np.pi * w[self.dim - 1])**2)\n",
    "        return val\n",
    "\n",
    "f = Levy(10)"
   ]
  },
  {
   "cell_type": "markdown",
   "metadata": {},
   "source": [
    "## Create a Turbo optimizer instance"
   ]
  },
  {
   "cell_type": "code",
   "execution_count": 4,
   "metadata": {},
   "outputs": [
    {
     "name": "stdout",
     "output_type": "stream",
     "text": [
      "Using dtype = torch.float64 \n",
      "Using device = cuda:0\n"
     ]
    }
   ],
   "source": [
    "turbo1 = NNTurbo1(\n",
    "    f=f,  # Handle to objective function\n",
    "    lb=f.lb,  # Numpy array specifying lower bounds\n",
    "    ub=f.ub,  # Numpy array specifying upper bounds\n",
    "    n_init=20,  # Number of initial bounds from an Latin hypercube design\n",
    "    max_evals = 1000,  # Maximum number of evaluations\n",
    "    batch_size=10,  # How large batch size TuRBO uses\n",
    "    verbose=True,  # Print information from each batch\n",
    "    use_ard=True,  # Set to true if you want to use ARD for the GP kernel\n",
    "    max_cholesky_size=2000,  # When we switch from Cholesky to Lanczos\n",
    "    n_training_steps=50,  # Number of steps of ADAM to learn the hypers\n",
    "    min_cuda=1024,  # Run on the CPU for small datasets\n",
    "    device=\"cuda\",  # \"cpu\" or \"cuda\"\n",
    "    dtype=\"float64\",  # float64 or float32\n",
    "    prop=1.25,\n",
    "    p=2\n",
    ")"
   ]
  },
  {
   "cell_type": "markdown",
   "metadata": {},
   "source": [
    "# Run the optimization process"
   ]
  },
  {
   "cell_type": "code",
   "execution_count": 5,
   "metadata": {},
   "outputs": [
    {
     "name": "stdout",
     "output_type": "stream",
     "text": [
      "Starting from fbest = 24.3\n",
      "k: 100\n",
      "30) New best: 12.74\n",
      "k: 100\n",
      "40) New best: 11.51\n",
      "k: 100\n",
      "50) New best: 7.587\n",
      "k: 125\n",
      "k: 100\n",
      "k: 80\n",
      "k: 64\n",
      "90) New best: 7.359\n",
      "k: 64\n",
      "k: 51\n",
      "110) New best: 5.022\n",
      "k: 51\n",
      "k: 40\n",
      "130) New best: 4.592\n",
      "k: 40\n",
      "140) New best: 3.63\n",
      "k: 40\n",
      "k: 32\n",
      "160) New best: 3.241\n",
      "k: 32\n",
      "170) New best: 2.633\n",
      "k: 32\n",
      "k: 25\n",
      "190) New best: 1.871\n",
      "k: 25\n",
      "200) New best: 1.589\n",
      "k: 25\n",
      "k: 20\n",
      "k: 16\n",
      "230) New best: 1.535\n",
      "k: 16\n",
      "240) New best: 0.5259\n",
      "k: 16\n",
      "k: 12\n",
      "260) Restarting with fbest = 0.5259\n",
      "Starting from fbest = 26.48\n",
      "k: 100\n",
      "k: 100\n",
      "k: 80\n",
      "k: 64\n",
      "k: 51\n",
      "k: 51\n",
      "k: 51\n",
      "k: 40\n",
      "k: 32\n",
      "k: 32\n",
      "k: 32\n",
      "k: 40\n",
      "k: 32\n",
      "k: 25\n",
      "k: 20\n",
      "k: 16\n",
      "k: 12\n",
      "450) Restarting with fbest = 1.114\n",
      "Starting from fbest = 30.81\n",
      "k: 100\n",
      "k: 100\n",
      "k: 100\n",
      "k: 80\n",
      "k: 80\n",
      "k: 64\n",
      "k: 64\n",
      "k: 64\n",
      "k: 51\n",
      "k: 51\n",
      "k: 51\n",
      "k: 40\n",
      "k: 32\n",
      "k: 25\n",
      "k: 20\n",
      "k: 20\n",
      "k: 20\n",
      "k: 16\n",
      "k: 16\n",
      "k: 12\n",
      "k: 12\n",
      "k: 12\n",
      "k: 15\n",
      "k: 12\n",
      "k: 12\n",
      "720) Restarting with fbest = 0.6056\n",
      "Starting from fbest = 25.37\n",
      "k: 100\n",
      "k: 100\n",
      "k: 80\n",
      "k: 64\n",
      "k: 64\n",
      "k: 51\n",
      "k: 51\n",
      "k: 51\n",
      "k: 63\n",
      "k: 50\n",
      "k: 40\n",
      "k: 32\n",
      "k: 25\n",
      "k: 25\n",
      "k: 25\n",
      "k: 31\n",
      "k: 24\n",
      "k: 19\n",
      "k: 15\n",
      "k: 15\n",
      "k: 15\n",
      "k: 18\n",
      "k: 18\n",
      "k: 14\n",
      "k: 11\n",
      "990) Restarting with fbest = 1.161\n",
      "Starting from fbest = 17.72\n"
     ]
    }
   ],
   "source": [
    "turbo1.optimize()"
   ]
  },
  {
   "cell_type": "markdown",
   "metadata": {},
   "source": [
    "## Extract all evaluations from Turbo and print the best"
   ]
  },
  {
   "cell_type": "code",
   "execution_count": 6,
   "metadata": {},
   "outputs": [
    {
     "name": "stdout",
     "output_type": "stream",
     "text": [
      "Best value found:\n",
      "\tf(x) = 0.526\n",
      "Observed at:\n",
      "\tx = [1.365 1.147 1.309 0.675 1.316 1.024 1.094 1.315 0.987 2.455]\n"
     ]
    }
   ],
   "source": [
    "X = turbo1.X  # Evaluated points\n",
    "fX = turbo1.fX  # Observed values\n",
    "ind_best = np.argmin(fX)\n",
    "f_best, x_best = fX[ind_best], X[ind_best, :]\n",
    "\n",
    "print(\"Best value found:\\n\\tf(x) = %.3f\\nObserved at:\\n\\tx = %s\" % (f_best, np.around(x_best, 3)))"
   ]
  },
  {
   "cell_type": "code",
   "execution_count": 7,
   "metadata": {},
   "outputs": [
    {
     "data": {
      "text/plain": [
       "((1010, 10), (1010, 1))"
      ]
     },
     "execution_count": 7,
     "metadata": {},
     "output_type": "execute_result"
    }
   ],
   "source": [
    "X.shape, fX.shape"
   ]
  },
  {
   "cell_type": "markdown",
   "metadata": {},
   "source": [
    "## Plot the progress\n",
    "Each trust region is independent and finds different solutions"
   ]
  },
  {
   "cell_type": "code",
   "execution_count": 8,
   "metadata": {},
   "outputs": [
    {
     "data": {
      "image/png": "[encoded data removed]",
      "text/plain": [
       "<Figure size 504x360 with 1 Axes>"
      ]
     },
     "metadata": {
      "needs_background": "light"
     },
     "output_type": "display_data"
    }
   ],
   "source": [
    "fig = plt.figure(figsize=(7, 5))\n",
    "matplotlib.rcParams.update({'font.size': 16})\n",
    "plt.plot(fX, 'b.', ms=10)  # Plot all evaluated points as blue dots\n",
    "plt.plot(np.minimum.accumulate(fX), 'r', lw=3)  # Plot cumulative minimum as a red line\n",
    "plt.xlim([0, len(fX)])\n",
    "plt.ylim([0, 30])\n",
    "plt.title(\"10D Levy function\")\n",
    "\n",
    "plt.tight_layout()\n",
    "plt.show()"
   ]
  },
  {
   "cell_type": "code",
   "execution_count": null,
   "metadata": {},
   "outputs": [],
   "source": []
  },
  {
   "cell_type": "code",
   "execution_count": null,
   "metadata": {},
   "outputs": [],
   "source": []
  }
 ],
 "metadata": {
  "kernelspec": {
   "display_name": "Python 3 (ipykernel)",
   "language": "python",
   "name": "python3"
  },
  "language_info": {
   "codemirror_mode": {
    "name": "ipython",
    "version": 3
   },
   "file_extension": ".py",
   "mimetype": "text/x-python",
   "name": "python",
   "nbconvert_exporter": "python",
   "pygments_lexer": "ipython3",
   "version": "3.9.12"
  }
 },
 "nbformat": 4,
 "nbformat_minor": 4
}
