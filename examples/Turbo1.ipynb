{
 "cells": [
  {
   "cell_type": "markdown",
   "metadata": {},
   "source": [
    "## Simple example of TuRBO-1"
   ]
  },
  {
   "cell_type": "code",
   "execution_count": 1,
   "metadata": {},
   "outputs": [
    {
     "name": "stdout",
     "output_type": "stream",
     "text": [
      "/home/mattyshen/NNTuRBO\n"
     ]
    }
   ],
   "source": [
    "cd .."
   ]
  },
  {
   "cell_type": "code",
   "execution_count": 2,
   "metadata": {},
   "outputs": [],
   "source": [
    "from turbo import Turbo1\n",
    "import numpy as np\n",
    "import torch\n",
    "import math\n",
    "import matplotlib\n",
    "import matplotlib.pyplot as plt"
   ]
  },
  {
   "cell_type": "markdown",
   "metadata": {},
   "source": [
    "## Set up an optimization problem class"
   ]
  },
  {
   "cell_type": "code",
   "execution_count": 3,
   "metadata": {},
   "outputs": [],
   "source": [
    "class Levy:\n",
    "    def __init__(self, dim=10):\n",
    "        self.dim = dim\n",
    "        self.lb = -5 * np.ones(dim)\n",
    "        self.ub = 10 * np.ones(dim)\n",
    "        \n",
    "    def __call__(self, x):\n",
    "        assert len(x) == self.dim\n",
    "        assert x.ndim == 1\n",
    "        assert np.all(x <= self.ub) and np.all(x >= self.lb)\n",
    "        w = 1 + (x - 1.0) / 4.0\n",
    "        val = np.sin(np.pi * w[0]) ** 2 + \\\n",
    "            np.sum((w[1:self.dim - 1] - 1) ** 2 * (1 + 10 * np.sin(np.pi * w[1:self.dim - 1] + 1) ** 2)) + \\\n",
    "            (w[self.dim - 1] - 1) ** 2 * (1 + np.sin(2 * np.pi * w[self.dim - 1])**2)\n",
    "        return val\n",
    "\n",
    "f = Levy(10)"
   ]
  },
  {
   "cell_type": "markdown",
   "metadata": {},
   "source": [
    "## Create a Turbo optimizer instance"
   ]
  },
  {
   "cell_type": "code",
   "execution_count": 4,
   "metadata": {},
   "outputs": [
    {
     "name": "stdout",
     "output_type": "stream",
     "text": [
      "Using dtype = torch.float64 \n",
      "Using device = cpu\n"
     ]
    }
   ],
   "source": [
    "turbo1 = Turbo1(\n",
    "    f=f,  # Handle to objective function\n",
    "    lb=f.lb,  # Numpy array specifying lower bounds\n",
    "    ub=f.ub,  # Numpy array specifying upper bounds\n",
    "    n_init=20,  # Number of initial bounds from an Latin hypercube design\n",
    "    max_evals = 1000,  # Maximum number of evaluations\n",
    "    batch_size=10,  # How large batch size TuRBO uses\n",
    "    verbose=True,  # Print information from each batch\n",
    "    use_ard=True,  # Set to true if you want to use ARD for the GP kernel\n",
    "    max_cholesky_size=2000,  # When we switch from Cholesky to Lanczos\n",
    "    n_training_steps=50,  # Number of steps of ADAM to learn the hypers\n",
    "    min_cuda=1024,  # Run on the CPU for small datasets\n",
    "    device=\"cpu\",  # \"cpu\" or \"cuda\"\n",
    "    dtype=\"float64\",  # float64 or float32\n",
    "    prop=1.2,\n",
    "    p=2\n",
    ")"
   ]
  },
  {
   "cell_type": "markdown",
   "metadata": {},
   "source": [
    "# Run the optimization process"
   ]
  },
  {
   "cell_type": "code",
   "execution_count": 5,
   "metadata": {},
   "outputs": [
    {
     "name": "stdout",
     "output_type": "stream",
     "text": [
      "Starting from fbest = 32.12\n",
      "k: 1000\n",
      "30) New best: 20.89\n",
      "k: 1000\n",
      "k: 833\n",
      "50) New best: 14.72\n",
      "k: 833\n",
      "k: 694\n",
      "70) New best: 12.71\n",
      "k: 694\n",
      "k: 578\n",
      "k: 481\n",
      "k: 400\n",
      "k: 333\n",
      "120) New best: 6.318\n",
      "k: 333\n",
      "130) New best: 6.253\n",
      "k: 333\n",
      "k: 277\n",
      "k: 230\n",
      "k: 191\n",
      "170) New best: 5.553\n",
      "k: 191\n",
      "k: 159\n",
      "190) New best: 5.067\n",
      "k: 159\n",
      "k: 132\n",
      "k: 110\n",
      "220) New best: 4.469\n",
      "k: 110\n",
      "230) New best: 3.845\n",
      "k: 110\n",
      "k: 91\n",
      "k: 75\n",
      "260) New best: 3.842\n",
      "k: 62\n",
      "270) New best: 3.765\n",
      "k: 62\n",
      "280) New best: 3.588\n",
      "k: 62\n",
      "k: 51\n",
      "300) New best: 3.52\n",
      "k: 51\n",
      "310) New best: 3.4\n",
      "k: 51\n",
      "320) Restarting with fbest = 3.4\n",
      "Starting from fbest = 26.09\n",
      "k: 1000\n",
      "k: 1000\n",
      "k: 833\n",
      "k: 833\n",
      "k: 694\n",
      "k: 578\n",
      "k: 481\n",
      "k: 400\n",
      "k: 400\n",
      "430) New best: 2.752\n",
      "k: 400\n",
      "440) New best: 2.167\n",
      "k: 480\n",
      "k: 400\n",
      "k: 333\n",
      "470) New best: 1.833\n",
      "k: 333\n",
      "k: 277\n",
      "k: 230\n",
      "k: 191\n",
      "510) New best: 1.739\n",
      "k: 191\n",
      "520) New best: 1.11\n",
      "k: 191\n",
      "k: 159\n",
      "k: 132\n",
      "k: 110\n",
      "560) New best: 0.7997\n",
      "k: 110\n",
      "570) New best: 0.761\n",
      "k: 110\n",
      "k: 91\n",
      "590) New best: 0.4525\n",
      "k: 91\n",
      "k: 75\n",
      "k: 62\n",
      "620) New best: 0.4013\n",
      "k: 62\n",
      "630) New best: 0.3099\n",
      "k: 62\n",
      "k: 51\n",
      "650) New best: 0.2817\n",
      "k: 51\n",
      "660) New best: 0.1958\n",
      "k: 51\n",
      "670) Restarting with fbest = 0.1958\n",
      "Starting from fbest = 34.42\n",
      "k: 1000\n",
      "k: 1000\n",
      "k: 833\n",
      "k: 694\n",
      "k: 578\n",
      "k: 481\n",
      "k: 400\n",
      "k: 333\n",
      "k: 277\n",
      "k: 277\n",
      "k: 277\n",
      "k: 230\n",
      "k: 230\n",
      "k: 230\n",
      "k: 191\n",
      "k: 159\n",
      "k: 159\n",
      "k: 132\n",
      "k: 132\n",
      "k: 132\n",
      "k: 158\n",
      "k: 131\n",
      "k: 109\n",
      "k: 90\n",
      "k: 75\n",
      "k: 62\n",
      "k: 51\n",
      "960) Restarting with fbest = 0.9753\n",
      "Starting from fbest = 15.87\n",
      "k: 1000\n",
      "k: 833\n"
     ]
    }
   ],
   "source": [
    "turbo1.optimize()"
   ]
  },
  {
   "cell_type": "markdown",
   "metadata": {},
   "source": [
    "## Extract all evaluations from Turbo and print the best"
   ]
  },
  {
   "cell_type": "code",
   "execution_count": 6,
   "metadata": {},
   "outputs": [
    {
     "name": "stdout",
     "output_type": "stream",
     "text": [
      "Best value found:\n",
      "\tf(x) = 0.196\n",
      "Observed at:\n",
      "\tx = [9.155 1.102 0.345 0.927 1.045 1.015 0.938 0.571 0.747 1.261]\n"
     ]
    }
   ],
   "source": [
    "X = turbo1.X  # Evaluated points\n",
    "fX = turbo1.fX  # Observed values\n",
    "ind_best = np.argmin(fX)\n",
    "f_best, x_best = fX[ind_best], X[ind_best, :]\n",
    "\n",
    "print(\"Best value found:\\n\\tf(x) = %.3f\\nObserved at:\\n\\tx = %s\" % (f_best, np.around(x_best, 3)))"
   ]
  },
  {
   "cell_type": "markdown",
   "metadata": {},
   "source": [
    "## Plot the progress\n",
    "Each trust region is independent and finds different solutions"
   ]
  },
  {
   "cell_type": "code",
   "execution_count": 7,
   "metadata": {},
   "outputs": [
    {
     "data": {
      "image/png": "[encoded data removed]",
      "text/plain": [
       "<Figure size 504x360 with 1 Axes>"
      ]
     },
     "metadata": {
      "needs_background": "light"
     },
     "output_type": "display_data"
    }
   ],
   "source": [
    "fig = plt.figure(figsize=(7, 5))\n",
    "matplotlib.rcParams.update({'font.size': 16})\n",
    "plt.plot(fX, 'b.', ms=10)  # Plot all evaluated points as blue dots\n",
    "plt.plot(np.minimum.accumulate(fX), 'r', lw=3)  # Plot cumulative minimum as a red line\n",
    "plt.xlim([0, len(fX)])\n",
    "plt.ylim([0, 30])\n",
    "plt.title(\"10D Levy function\")\n",
    "\n",
    "plt.tight_layout()\n",
    "plt.show()"
   ]
  },
  {
   "cell_type": "code",
   "execution_count": null,
   "metadata": {},
   "outputs": [],
   "source": []
  },
  {
   "cell_type": "code",
   "execution_count": null,
   "metadata": {},
   "outputs": [],
   "source": []
  }
 ],
 "metadata": {
  "kernelspec": {
   "display_name": "Python 3 (ipykernel)",
   "language": "python",
   "name": "python3"
  },
  "language_info": {
   "codemirror_mode": {
    "name": "ipython",
    "version": 3
   },
   "file_extension": ".py",
   "mimetype": "text/x-python",
   "name": "python",
   "nbconvert_exporter": "python",
   "pygments_lexer": "ipython3",
   "version": "3.9.12"
  }
 },
 "nbformat": 4,
 "nbformat_minor": 4
}
